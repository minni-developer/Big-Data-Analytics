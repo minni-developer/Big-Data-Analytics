{
 "cells": [
  {
   "cell_type": "code",
   "execution_count": 1,
   "metadata": {},
   "outputs": [],
   "source": [
    "# Import necessary libraries\n",
    "from pyspark.sql import SparkSession\n",
    "from pyspark.sql.functions import col\n",
    "from pyspark.ml.feature import VectorAssembler\n",
    "from pyspark.ml.regression import LinearRegression\n",
    "from pyspark.ml.evaluation import RegressionEvaluator\n"
   ]
  },
  {
   "cell_type": "code",
   "execution_count": 2,
   "metadata": {},
   "outputs": [
    {
     "name": "stderr",
     "output_type": "stream",
     "text": [
      "WARNING: An illegal reflective access operation has occurred\n",
      "WARNING: Illegal reflective access by org.apache.spark.unsafe.Platform (file:/opt/spark/jars/spark-unsafe_2.12-3.2.1.jar) to constructor java.nio.DirectByteBuffer(long,int)\n",
      "WARNING: Please consider reporting this to the maintainers of org.apache.spark.unsafe.Platform\n",
      "WARNING: Use --illegal-access=warn to enable warnings of further illegal reflective access operations\n",
      "WARNING: All illegal access operations will be denied in a future release\n",
      "Using Spark's default log4j profile: org/apache/spark/log4j-defaults.properties\n",
      "Setting default log level to \"WARN\".\n",
      "To adjust logging level use sc.setLogLevel(newLevel). For SparkR, use setLogLevel(newLevel).\n",
      "24/07/02 06:53:41 WARN NativeCodeLoader: Unable to load native-hadoop library for your platform... using builtin-java classes where applicable\n",
      "24/07/02 06:53:41 WARN Utils: Service 'SparkUI' could not bind on port 4040. Attempting port 4041.\n"
     ]
    }
   ],
   "source": [
    "# Initialize Spark session\n",
    "spark = SparkSession.builder \\\n",
    "    .appName(\"Education Dataset Analysis\") \\\n",
    "    .getOrCreate()"
   ]
  },
  {
   "cell_type": "code",
   "execution_count": 4,
   "metadata": {},
   "outputs": [
    {
     "name": "stderr",
     "output_type": "stream",
     "text": [
      "                                                                                \r"
     ]
    }
   ],
   "source": [
    "# Load national data CSV into Spark DataFrame\n",
    "national_data = spark.read.csv(\"EDUNONCORE_DATA_NATIONAL.csv\", header=True, inferSchema=True)\n",
    "\n"
   ]
  },
  {
   "cell_type": "code",
   "execution_count": 5,
   "metadata": {},
   "outputs": [
    {
     "name": "stdout",
     "output_type": "stream",
     "text": [
      "root\n",
      " |-- INDICATOR_ID: string (nullable = true)\n",
      " |-- COUNTRY_ID: string (nullable = true)\n",
      " |-- YEAR: integer (nullable = true)\n",
      " |-- VALUE: double (nullable = true)\n",
      " |-- MAGNITUDE: string (nullable = true)\n",
      " |-- QUALIFIER: string (nullable = true)\n",
      "\n",
      "+------------+----------+----+--------+---------+---------+\n",
      "|INDICATOR_ID|COUNTRY_ID|YEAR|   VALUE|MAGNITUDE|QUALIFIER|\n",
      "+------------+----------+----+--------+---------+---------+\n",
      "|       20000|       ABW|2003|   597.0|     null|     null|\n",
      "|       20000|       ABW|2004|   590.0|     null|     null|\n",
      "|       20000|       ABW|2005|   654.0|     null|     null|\n",
      "|       20000|       ABW|2013|   757.0|     null|     null|\n",
      "|       20000|       AGO|1999|157782.0|     null|     null|\n",
      "+------------+----------+----+--------+---------+---------+\n",
      "only showing top 5 rows\n",
      "\n"
     ]
    }
   ],
   "source": [
    "# Show schema and first few rows of the DataFrame\n",
    "national_data.printSchema()\n",
    "national_data.show(5)"
   ]
  },
  {
   "cell_type": "code",
   "execution_count": 6,
   "metadata": {},
   "outputs": [],
   "source": [
    "# Example: Perform a simple linear regression using MLlib\n",
    "# Assuming we want to predict 'VALUE' based on other features\n",
    "\n",
    "# Selecting relevant columns and dropping rows with null values\n",
    "selected_data = national_data.select(\"YEAR\", \"VALUE\").na.drop()\n",
    "\n",
    "# Assemble features into a vector\n",
    "assembler = VectorAssembler(inputCols=[\"YEAR\"], outputCol=\"features\")\n",
    "assembled_data = assembler.transform(selected_data)\n",
    "\n"
   ]
  },
  {
   "cell_type": "code",
   "execution_count": 7,
   "metadata": {},
   "outputs": [],
   "source": [
    "# Split data into training and test sets\n",
    "train_data, test_data = assembled_data.randomSplit([0.7, 0.3], seed=123)\n",
    "\n"
   ]
  },
  {
   "cell_type": "code",
   "execution_count": 8,
   "metadata": {},
   "outputs": [
    {
     "name": "stderr",
     "output_type": "stream",
     "text": [
      "24/07/02 06:54:54 WARN Instrumentation: [3758c7af] regParam is zero, which might cause numerical instability and overfitting.\n",
      "24/07/02 06:54:55 WARN InstanceBuilder$NativeBLAS: Failed to load implementation from:dev.ludovic.netlib.blas.JNIBLAS\n",
      "24/07/02 06:54:55 WARN InstanceBuilder$NativeBLAS: Failed to load implementation from:dev.ludovic.netlib.blas.ForeignLinkerBLAS\n",
      "24/07/02 06:54:58 WARN InstanceBuilder$NativeLAPACK: Failed to load implementation from:dev.ludovic.netlib.lapack.JNILAPACK\n",
      "                                                                                \r"
     ]
    }
   ],
   "source": [
    "# Initialize Linear Regression model\n",
    "lr = LinearRegression(featuresCol=\"features\", labelCol=\"VALUE\")\n",
    "\n",
    "# Fit the model to the training data\n",
    "lr_model = lr.fit(train_data)\n",
    "\n"
   ]
  },
  {
   "cell_type": "code",
   "execution_count": 9,
   "metadata": {},
   "outputs": [
    {
     "name": "stdout",
     "output_type": "stream",
     "text": [
      "Coefficients: [74535617.98572202]\n",
      "Intercept: -150387967565.79614\n"
     ]
    }
   ],
   "source": [
    "# Print coefficients and intercept\n",
    "print(\"Coefficients: \" + str(lr_model.coefficients))\n",
    "print(\"Intercept: \" + str(lr_model.intercept))\n",
    "\n"
   ]
  },
  {
   "cell_type": "code",
   "execution_count": 10,
   "metadata": {},
   "outputs": [
    {
     "name": "stderr",
     "output_type": "stream",
     "text": [
      "[Stage 7:>                                                          (0 + 1) / 1]\r"
     ]
    },
    {
     "name": "stdout",
     "output_type": "stream",
     "text": [
      "+----+-----+--------------------+\n",
      "|YEAR|VALUE|          prediction|\n",
      "+----+-----+--------------------+\n",
      "|1970|  0.0|-3.552800133923767E9|\n",
      "|1970|  0.0|-3.552800133923767E9|\n",
      "|1970|  0.0|-3.552800133923767E9|\n",
      "|1970|  0.0|-3.552800133923767E9|\n",
      "|1970|  0.0|-3.552800133923767E9|\n",
      "|1970|  0.0|-3.552800133923767E9|\n",
      "|1970| 25.0|-3.552800133923767E9|\n",
      "|1970| 53.0|-3.552800133923767E9|\n",
      "|1970| 53.0|-3.552800133923767E9|\n",
      "|1970| 80.0|-3.552800133923767E9|\n",
      "|1970| 84.0|-3.552800133923767E9|\n",
      "|1970|102.0|-3.552800133923767E9|\n",
      "|1970|108.0|-3.552800133923767E9|\n",
      "|1970|119.0|-3.552800133923767E9|\n",
      "|1970|183.0|-3.552800133923767E9|\n",
      "|1970|185.0|-3.552800133923767E9|\n",
      "|1970|243.0|-3.552800133923767E9|\n",
      "|1970|279.0|-3.552800133923767E9|\n",
      "|1970|393.0|-3.552800133923767E9|\n",
      "|1970|428.0|-3.552800133923767E9|\n",
      "+----+-----+--------------------+\n",
      "only showing top 20 rows\n",
      "\n"
     ]
    },
    {
     "name": "stderr",
     "output_type": "stream",
     "text": [
      "                                                                                \r"
     ]
    }
   ],
   "source": [
    "# Predict on the test data\n",
    "predictions = lr_model.transform(test_data)\n",
    "\n",
    "# Show predictions alongside actual values\n",
    "predictions.select(\"YEAR\", \"VALUE\", \"prediction\").show()\n",
    "\n"
   ]
  },
  {
   "cell_type": "code",
   "execution_count": 11,
   "metadata": {},
   "outputs": [
    {
     "name": "stderr",
     "output_type": "stream",
     "text": [
      "[Stage 8:=============================>                            (6 + 6) / 12]\r"
     ]
    },
    {
     "name": "stdout",
     "output_type": "stream",
     "text": [
      "Root Mean Squared Error (RMSE) on test data = 1.33833e+13\n"
     ]
    },
    {
     "name": "stderr",
     "output_type": "stream",
     "text": [
      "                                                                                \r"
     ]
    }
   ],
   "source": [
    "# Evaluate the model using RMSE\n",
    "evaluator = RegressionEvaluator(labelCol=\"VALUE\", predictionCol=\"prediction\", metricName=\"rmse\")\n",
    "rmse = evaluator.evaluate(predictions)\n",
    "print(\"Root Mean Squared Error (RMSE) on test data = %g\" % rmse)\n",
    "\n"
   ]
  },
  {
   "cell_type": "code",
   "execution_count": 12,
   "metadata": {},
   "outputs": [],
   "source": [
    "# Stop the Spark session\n",
    "spark.stop()\n"
   ]
  },
  {
   "cell_type": "code",
   "execution_count": null,
   "metadata": {},
   "outputs": [],
   "source": []
  }
 ],
 "metadata": {
  "kernelspec": {
   "display_name": "Python 3 (ipykernel)",
   "language": "python",
   "name": "python3"
  },
  "language_info": {
   "codemirror_mode": {
    "name": "ipython",
    "version": 3
   },
   "file_extension": ".py",
   "mimetype": "text/x-python",
   "name": "python",
   "nbconvert_exporter": "python",
   "pygments_lexer": "ipython3",
   "version": "3.8.13"
  }
 },
 "nbformat": 4,
 "nbformat_minor": 4
}
